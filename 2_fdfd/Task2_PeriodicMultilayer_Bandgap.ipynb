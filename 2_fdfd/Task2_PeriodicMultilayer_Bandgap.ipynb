{
 "cells": [
  {
   "cell_type": "code",
   "execution_count": 1,
   "metadata": {
    "collapsed": true
   },
   "outputs": [],
   "source": [
    "import numpy as np\n",
    "import scipy as sp\n",
    "import scipy.sparse.linalg as linalg\n",
    "import matplotlib.pyplot as plt\n",
    "%matplotlib inline"
   ]
  },
  {
   "cell_type": "markdown",
   "metadata": {},
   "source": [
    "# Task 2: 1D Periodic Multilayer Dielectric Slab, Eigenmode formulation"
   ]
  },
  {
   "cell_type": "markdown",
   "metadata": {},
   "source": [
    "## Maxwell Equations (time domain)\n",
    "\\begin{equation}\n",
    "\\nabla \\times E = - \\mu \\frac{\\partial H}{\\partial t}\n",
    "\\end{equation}\n",
    "\n",
    "\\begin{equation}\n",
    "\\nabla \\times H = \\epsilon \\frac{\\partial E}{\\partial t}\n",
    "\\end{equation}"
   ]
  },
  {
   "cell_type": "markdown",
   "metadata": {},
   "source": [
    "## Time Domain $\\rightarrow$ Frequency Domain\n",
    "\n",
    "Using the Fourier transform we get:\n",
    "\n",
    "\\begin{equation}\n",
    "E(r, t) \\rightarrow E(r, \\omega)\n",
    "\\end{equation}\n",
    "\n",
    "\\begin{equation}\n",
    "\\frac{\\partial E}{\\partial t} \\rightarrow i\\omega E\n",
    "\\end{equation}\n",
    "\n",
    "Thus our wave equation transforms into:\n",
    "\n",
    "\\begin{equation}\n",
    "\\nabla E = - i \\omega \\mu H\n",
    "\\end{equation}\n",
    "\n",
    "\\begin{equation}\n",
    "\\nabla E = - i \\omega \\epsilon E\n",
    "\\end{equation}"
   ]
  },
  {
   "cell_type": "markdown",
   "metadata": {},
   "source": [
    "## 1D Coordinates, Periodic\n",
    "\n",
    "\\begin{equation}\n",
    "{H_y}_{i}, {E_z}_{i+\\frac{1}{2}}, i \\in \\mathcal{N}\n",
    "\\end{equation}\n",
    "\n",
    "\\begin{equation}\n",
    "{H_y}_{0} = {H_y}_{n} e^{ik_x a}\n",
    "\\end{equation}\n",
    "\n",
    "\\begin{equation}\n",
    "{E_z}_{0+\\frac{1}{2}} = {E_z}_{n+\\frac{1}{2}} e^{ik_x a}\n",
    "\\end{equation}\n",
    "\n",
    "\\begin{equation}\n",
    "\\frac{\\partial E_z}{\\partial x} = - i \\omega \\mu H_y\n",
    "\\end{equation}\n",
    "\n",
    "\\begin{equation}\n",
    "\\frac{\\partial H_y}{\\partial x} = i \\omega \\epsilon E_z\n",
    "\\end{equation}"
   ]
  },
  {
   "cell_type": "markdown",
   "metadata": {},
   "source": [
    "## Discretization\n",
    "\\begin{equation}\n",
    "\\frac{\\partial {E_z}_i}{\\partial x} \\approx \\frac{{E_z}_{i+1} - {E_z}_{i-1}}{\\Delta x}\n",
    "\\end{equation}\n",
    "\n",
    "\\begin{equation}\n",
    "\\frac{\\partial {E_z}_0}{\\partial x} \\approx \\frac{{E_z}_{1} - {E_z}_{n}e^{i k_x a}}{\\Delta x}\n",
    "\\end{equation}\n",
    "\n",
    "\\begin{equation}\n",
    "\\frac{\\partial {E_z}_n}{\\partial x} \\approx \\frac{{E_z}_{0}e^{i k_x a} - {E_z}_{n-1}}{\\Delta x}\n",
    "\\end{equation}\n",
    "\n",
    "Forward difference\n",
    "\\begin{equation}\n",
    "-i\\omega\\mu_i {E_z}_{i+\\frac{1}{2}} \\approx \\frac{{H_y}_{i+1} - {H_y}_{i}}{\\Delta x}\n",
    "\\end{equation}\n",
    "\n",
    "Backward difference\n",
    "\\begin{equation}\n",
    "-i\\omega\\epsilon_i {H_y}_{i} \\approx \\frac{{E_z}_{i+\\frac{1}{2}} - {E_z}_{i-\\frac{1}{2}}}{\\Delta x}\n",
    "\\end{equation}"
   ]
  },
  {
   "cell_type": "markdown",
   "metadata": {},
   "source": [
    "## Wave equation\n",
    "\n",
    "\\begin{equation}\n",
    "{H_y}_i = \\frac{i}{\\omega \\mu_i }\\frac{\\partial {E_z}_i}{\\partial x}\n",
    "\\end{equation}\n",
    "\n",
    "\\begin{equation}\n",
    "{E_z}_i = \\frac{-i}{\\omega \\epsilon_i }\\frac{\\partial {H_y}_i}{\\partial x}\n",
    "\\end{equation}\n",
    "\n",
    "\\begin{equation}\n",
    "\\frac{\\partial}{\\partial x}\\frac{i}{\\omega \\mu_i }\\frac{\\partial}{\\partial x} {E_z}_i = i \\omega \\epsilon_i {E_z}_i\n",
    "\\end{equation}\n",
    "\n",
    "\\begin{equation}\n",
    "\\frac{1}{\\epsilon_i}\\frac{\\partial}{\\partial x}\\frac{1}{\\mu_i}\\frac{\\partial}{\\partial x} {E_z}_i = \\omega^2 {E_z}_i\n",
    "\\end{equation}\n",
    "\n",
    "or\n",
    "\\begin{equation}\n",
    "\\frac{1}{\\mu_i}\\frac{\\partial}{\\partial x}\\frac{1}{\\epsilon_i}\\frac{\\partial}{\\partial x} {H_y}_i = \\omega^2 {H_y}_i\n",
    "\\end{equation}"
   ]
  },
  {
   "cell_type": "markdown",
   "metadata": {},
   "source": [
    "## Matrix form\n",
    "\\begin{equation}\n",
    "{H_y}_i = \\frac{i}{\\omega \\mu_i }\\frac{\\partial E_z}{\\partial x} \\approx \\frac{i}{\\omega \\mu_i }\\frac{{E_z}_{i+\\frac{1}{2}} - {E_z}_{i-\\frac{1}{2}}}{\\Delta x}\n",
    "\\end{equation}\n",
    "\n",
    "\\begin{equation}\n",
    "\\begin{bmatrix}\n",
    "    {H_y}_{0} \\\\\n",
    "    {H_y}_{1} \\\\\n",
    "    \\vdots \\\\\n",
    "    {H_y}_{n-1} \\\\    \n",
    "    {H_y}_{n}    \n",
    "\\end{bmatrix} \n",
    "=\n",
    "\\frac{i}{\\omega \\Delta x}\n",
    "\\begin{bmatrix}\n",
    "    \\frac{1}{\\mu_0}  & 0      & 0      & \\dots  & 0      \\\\\n",
    "    0      & \\frac{1}{\\mu_1}  & 0      & \\dots  & 0      \\\\\n",
    "    0      & 0      & \\frac{1}{\\mu_2}  & \\dots  & \\vdots \\\\\n",
    "    \\vdots & \\vdots & \\vdots & \\ddots & 0      \\\\\n",
    "    0      & 0      & \\dots  & 0      & \\frac{1}{\\mu_n}\n",
    "\\end{bmatrix}\n",
    "\\begin{bmatrix}\n",
    "    1      & 0      & 0      & \\dots  & -e^{i k_x a}      \\\\\n",
    "    -1     & 1      & 0      & \\dots  & 0      \\\\\n",
    "    0      & -1     & 1      & \\dots  & \\vdots \\\\\n",
    "    \\vdots & \\vdots & \\vdots & \\ddots & 0      \\\\\n",
    "    0      & 0      & \\dots  & -1     & 1\n",
    "\\end{bmatrix}\n",
    "\\begin{bmatrix}\n",
    "    {E_z}_{0+\\frac{1}{2}} \\\\\n",
    "    {E_z}_{1+\\frac{1}{2}} \\\\\n",
    "    \\vdots \\\\\n",
    "    {E_z}_{n-\\frac{1}{2}} \\\\    \n",
    "    {E_z}_{n+\\frac{1}{2}}    \n",
    "\\end{bmatrix} \n",
    "\\end{equation}\n",
    "\n",
    "\\begin{equation}\n",
    "{E_z}_{i+\\frac{1}{2}} = \\frac{-i}{\\omega \\epsilon_i }\\frac{\\partial {H_y}_i}{\\partial x} \\approx \\frac{-i}{\\omega \\epsilon_i } \\frac{{H_y}_{i+1} - {H_y}_{i}}{\\Delta x}\n",
    "\\end{equation}\n",
    "\n",
    "\\begin{equation}\n",
    "\\begin{bmatrix}\n",
    "    {E_z}_{0+\\frac{1}{2}} \\\\\n",
    "    {E_z}_{1+\\frac{1}{2}} \\\\\n",
    "    \\vdots \\\\\n",
    "    {E_z}_{n-\\frac{1}{2}} \\\\    \n",
    "    {E_z}_{n+\\frac{1}{2}}    \n",
    "\\end{bmatrix}\n",
    "=\n",
    "\\frac{i}{\\omega \\Delta x}\n",
    "\\begin{bmatrix}\n",
    "    \\frac{1}{\\epsilon_0}  & 0      & 0      & \\dots  & 0      \\\\\n",
    "    0      & \\frac{1}{\\epsilon_1}  & 0      & \\dots  & 0      \\\\\n",
    "    0      & 0      & \\frac{1}{\\epsilon_2}  & \\dots  & \\vdots \\\\\n",
    "    \\vdots & \\vdots & \\vdots & \\ddots & 0      \\\\\n",
    "    0      & 0      & \\dots  & 0      & \\frac{1}{\\epsilon_n}\n",
    "\\end{bmatrix}\n",
    "\\begin{bmatrix}\n",
    "    -1     & 1      & 0      & \\dots  & 0      \\\\\n",
    "    0      & -1     & 1      & \\dots  & 0      \\\\\n",
    "    0      & 0      & -1     & \\dots  & \\vdots \\\\\n",
    "    \\vdots & \\vdots & \\vdots & \\ddots & 1      \\\\\n",
    "    e^{i k_x a}      & 0      & \\dots  & 0      & -1\n",
    "\\end{bmatrix}\n",
    "\\begin{bmatrix}\n",
    "    {H_y}_{0} \\\\\n",
    "    {H_y}_{1} \\\\\n",
    "    \\vdots \\\\\n",
    "    {H_y}_{n-1} \\\\    \n",
    "    {H_y}_{n}    \n",
    "\\end{bmatrix} \n",
    "\\end{equation}\n",
    "\n",
    "\\begin{equation}\n",
    "\\omega^2 E_z = \\frac{1}{\\epsilon}\\frac{\\partial}{\\partial x}\\frac{1}{\\mu}\\frac{\\partial}{\\partial x} E_z\n",
    "\\end{equation}\n",
    "\n",
    "\\begin{equation}\n",
    "\\omega^2\n",
    "\\begin{bmatrix}\n",
    "    {E_z}_{0+\\frac{1}{2}} \\\\\n",
    "    {E_z}_{1+\\frac{1}{2}} \\\\\n",
    "    \\vdots \\\\\n",
    "    {E_z}_{n-\\frac{1}{2}} \\\\    \n",
    "    {E_z}_{n+\\frac{1}{2}}    \n",
    "\\end{bmatrix}\n",
    "=\n",
    "\\frac{i}{\\Delta x}\n",
    "\\begin{bmatrix}\n",
    "    \\frac{1}{\\epsilon_0}  & 0      & 0      & \\dots  & 0      \\\\\n",
    "    0      & \\frac{1}{\\epsilon_1}  & 0      & \\dots  & 0      \\\\\n",
    "    0      & 0      & \\frac{1}{\\epsilon_2}  & \\dots  & \\vdots \\\\\n",
    "    \\vdots & \\vdots & \\vdots & \\ddots & 0      \\\\\n",
    "    0      & 0      & \\dots  & 0      & \\frac{1}{\\epsilon_n}\n",
    "\\end{bmatrix}\n",
    "\\begin{bmatrix}\n",
    "    -1     & 1      & 0      & \\dots  & 0      \\\\\n",
    "    0      & -1     & 1      & \\dots  & 0      \\\\\n",
    "    0      & 0      & -1     & \\dots  & \\vdots \\\\\n",
    "    \\vdots & \\vdots & \\vdots & \\ddots & 1      \\\\\n",
    "    e^{i k_x a}      & 0      & \\dots  & 0      & -1\n",
    "\\end{bmatrix}\n",
    "\\frac{i}{\\Delta x}\n",
    "\\begin{bmatrix}\n",
    "    \\frac{1}{\\mu_0}  & 0      & 0      & \\dots  & 0      \\\\\n",
    "    0      & \\frac{1}{\\mu_1}  & 0      & \\dots  & 0      \\\\\n",
    "    0      & 0      & \\frac{1}{\\mu_2}  & \\dots  & \\vdots \\\\\n",
    "    \\vdots & \\vdots & \\vdots & \\ddots & 0      \\\\\n",
    "    0      & 0      & \\dots  & 0      & \\frac{1}{\\mu_n}\n",
    "\\end{bmatrix}\n",
    "\\begin{bmatrix}\n",
    "    1      & 0      & 0      & \\dots  & -e^{i k_x a}      \\\\\n",
    "    -1     & 1      & 0      & \\dots  & 0      \\\\\n",
    "    0      & -1     & 1      & \\dots  & \\vdots \\\\\n",
    "    \\vdots & \\vdots & \\vdots & \\ddots & 0      \\\\\n",
    "    0      & 0      & \\dots  & -1     & 1\n",
    "\\end{bmatrix}\n",
    "\\begin{bmatrix}\n",
    "    {E_z}_{0+\\frac{1}{2}} \\\\\n",
    "    {E_z}_{1+\\frac{1}{2}} \\\\\n",
    "    \\vdots \\\\\n",
    "    {E_z}_{n-\\frac{1}{2}} \\\\    \n",
    "    {E_z}_{n+\\frac{1}{2}}    \n",
    "\\end{bmatrix} \n",
    "\\end{equation}\n",
    "\n",
    "or, simplifing, and replacing $i+\\frac{1}{2}$ with $i$:\n",
    "\n",
    "\n",
    "\\begin{equation}\n",
    "\\omega^2\n",
    "\\begin{bmatrix}\n",
    "    {E_z}_{0} \\\\\n",
    "    {E_z}_{1} \\\\\n",
    "    \\vdots \\\\\n",
    "    {E_z}_{n-1} \\\\    \n",
    "    {E_z}_{n}    \n",
    "\\end{bmatrix}\n",
    "=\n",
    "- \\frac{1}{\\Delta x^2}\n",
    "\\begin{bmatrix}\n",
    "    \\frac{1}{\\epsilon_0}  & 0      & 0      & \\dots  & 0      \\\\\n",
    "    0      & \\frac{1}{\\epsilon_1}  & 0      & \\dots  & 0      \\\\\n",
    "    0      & 0      & \\frac{1}{\\epsilon_2}  & \\dots  & \\vdots \\\\\n",
    "    \\vdots & \\vdots & \\vdots & \\ddots & 0      \\\\\n",
    "    0      & 0      & \\dots  & 0      & \\frac{1}{\\epsilon_n}\n",
    "\\end{bmatrix}\n",
    "\\begin{bmatrix}\n",
    "    -1     & 1      & 0      & \\dots  & 0      \\\\\n",
    "    0      & -1     & 1      & \\dots  & 0      \\\\\n",
    "    0      & 0      & -1     & \\dots  & \\vdots \\\\\n",
    "    \\vdots & \\vdots & \\vdots & \\ddots & 1      \\\\\n",
    "    e^{i k_x a}      & 0      & \\dots  & 0      & -1\n",
    "\\end{bmatrix}\n",
    "\\begin{bmatrix}\n",
    "    \\frac{1}{\\mu_0}  & 0      & 0      & \\dots  & 0      \\\\\n",
    "    0      & \\frac{1}{\\mu_1}  & 0      & \\dots  & 0      \\\\\n",
    "    0      & 0      & \\frac{1}{\\mu_2}  & \\dots  & \\vdots \\\\\n",
    "    \\vdots & \\vdots & \\vdots & \\ddots & 0      \\\\\n",
    "    0      & 0      & \\dots  & 0      & \\frac{1}{\\mu_n}\n",
    "\\end{bmatrix}\n",
    "\\begin{bmatrix}\n",
    "    1      & 0      & 0      & \\dots  & -e^{i k_x a}      \\\\\n",
    "    -1     & 1      & 0      & \\dots  & 0      \\\\\n",
    "    0      & -1     & 1      & \\dots  & \\vdots \\\\\n",
    "    \\vdots & \\vdots & \\vdots & \\ddots & 0      \\\\\n",
    "    0      & 0      & \\dots  & -1     & 1\n",
    "\\end{bmatrix}\n",
    "\\begin{bmatrix}\n",
    "    {E_z}_{0} \\\\\n",
    "    {E_z}_{1} \\\\\n",
    "    \\vdots \\\\\n",
    "    {E_z}_{n-1} \\\\    \n",
    "    {E_z}_{n}    \n",
    "\\end{bmatrix} \n",
    "\\end{equation}"
   ]
  },
  {
   "cell_type": "markdown",
   "metadata": {},
   "source": [
    "## Boundary Conditions\n",
    "\n",
    "In this case the boundary conditions are periodic, satisfied by the $e^{i k_x a}$ elements in the resulting matrix"
   ]
  },
  {
   "cell_type": "markdown",
   "metadata": {
    "collapsed": true
   },
   "source": [
    "# Implementation\n",
    "## Setup grid"
   ]
  },
  {
   "cell_type": "code",
   "execution_count": 20,
   "metadata": {
    "collapsed": true
   },
   "outputs": [],
   "source": [
    "n=1000          # number of grid nodes\n",
    "\n",
    "dx=1/n         # discretization step, domain size = 1\n",
    "\n",
    "eps1 = 13      # Layer 1\n",
    "eps2 = 1       # Layer 2\n",
    "\n",
    "num_eigs = 6   # Solver for first # eigenmodes"
   ]
  },
  {
   "cell_type": "markdown",
   "metadata": {},
   "source": [
    "## Build matrix"
   ]
  },
  {
   "cell_type": "code",
   "execution_count": 24,
   "metadata": {
    "collapsed": false
   },
   "outputs": [],
   "source": [
    "# Material parameters distribution\n",
    "\n",
    "eps = np.ones(n)\n",
    "eps[:int(n/2)] = 1/eps1\n",
    "eps[int(n/2):] = 1/eps2\n",
    "\n",
    "eps = sp.sparse.dia_matrix(([eps], [0]), [n,n])\n",
    "\n",
    "# Forward\n",
    "\n",
    "diag = np.ones(n) * -1/dx\n",
    "up_diag = np.ones(n) * 1/dx\n",
    "\n",
    "M_1 = sp.sparse.dia_matrix(([up_diag, diag], [1, 0]), [n,n])\n",
    "# Backward\n",
    "\n",
    "diag = np.ones(n) * 1/dx\n",
    "up_diag = np.ones(n) * -1/dx\n",
    "\n",
    "M_2 = sp.sparse.dia_matrix(([up_diag, diag], [-1, 0]), [n,n])\n",
    "\n",
    "M_1 = sp.sparse.lil_matrix(M_1)\n",
    "M_2 = sp.sparse.lil_matrix(M_2)"
   ]
  },
  {
   "cell_type": "markdown",
   "metadata": {},
   "source": [
    "## Solve for eigenmodes"
   ]
  },
  {
   "cell_type": "code",
   "execution_count": 25,
   "metadata": {
    "collapsed": false
   },
   "outputs": [],
   "source": [
    "kk0 = 2*sp.pi*np.linspace(-0.5,0.5,300) # k-vector in medium with eps1-eps2\n",
    "\n",
    "k = np.zeros((num_eigs, kk0.size), dtype=complex)\n",
    "for ik in range(kk0.size):\n",
    "    k0=kk0[ik]\n",
    "     \n",
    "    M_1[n-1, 0] = np.cos(k0*1)/dx # to impose periodic boundary conditions    \n",
    "    M_2[0, n-1] = -np.cos(k0*1)/dx\n",
    "    \n",
    "    M = -eps*M_2*M_1\n",
    "    \n",
    "    kt = k0/np.sqrt((eps1+eps2)/2); # target k=w/c\n",
    "    k2, V = linalg.eigs(M, k=num_eigs, M=None, sigma=kt**2)\n",
    "    \n",
    "    k[:,ik] = np.sqrt(k2) # k=w/c"
   ]
  },
  {
   "cell_type": "markdown",
   "metadata": {},
   "source": [
    "## Plot eigenmodes\n",
    "### Bands"
   ]
  },
  {
   "cell_type": "code",
   "execution_count": 26,
   "metadata": {
    "collapsed": false
   },
   "outputs": [
    {
     "data": {
      "text/plain": [
       "(0.0, 1.5)"
      ]
     },
     "execution_count": 26,
     "metadata": {},
     "output_type": "execute_result"
    },
    {
     "data": {
      "image/png": "[encoded data removed]",
      "text/plain": [
       "<matplotlib.figure.Figure at 0x7f02f4d75470>"
      ]
     },
     "metadata": {},
     "output_type": "display_data"
    }
   ],
   "source": [
    "for i in range(num_eigs):\n",
    "    plt.hold(True)\n",
    "    plt.plot(kk0/(2*sp.pi), np.real(k[i,:]/(2*sp.pi)) ,'-')\n",
    "    \n",
    "plt.xlabel(\"k vector\")\n",
    "plt.ylabel(\"frequency\")\n",
    "plt.xlim([-0.5, 0.5])\n",
    "plt.ylim([0.0, 1.5])"
   ]
  },
  {
   "cell_type": "markdown",
   "metadata": {},
   "source": [
    "### Field distribution"
   ]
  },
  {
   "cell_type": "code",
   "execution_count": 27,
   "metadata": {
    "collapsed": false
   },
   "outputs": [
    {
     "data": {
      "image/png": "[encoded data removed]",
      "text/plain": [
       "<matplotlib.figure.Figure at 0x7f02f4df0208>"
      ]
     },
     "metadata": {},
     "output_type": "display_data"
    }
   ],
   "source": [
    "f, ax = plt.subplots(6,1, sharex=True, sharey=True)\n",
    "\n",
    "for i in range(num_eigs):\n",
    "    ax[i].plot(np.linspace(0, 1, n), np.abs(V[:,i]),'-')"
   ]
  },
  {
   "cell_type": "markdown",
   "metadata": {
    "collapsed": true
   },
   "source": [
    "## Permittivity Contrast Bandgap dependence"
   ]
  },
  {
   "cell_type": "code",
   "execution_count": 53,
   "metadata": {
    "collapsed": true
   },
   "outputs": [],
   "source": [
    "def build_bandgap_diagram(eps1, eps2, num_eigs=6):\n",
    "    n=200          # number of grid nodes\n",
    "\n",
    "    dx=1/n         # discretization step, domain size = 1\n",
    "    \n",
    "    # Material parameters distribution\n",
    "\n",
    "    eps = np.ones(n)\n",
    "    eps[:int(n/2)-1] = 1/eps1\n",
    "    eps[int(n/2):] = 1/eps2\n",
    "\n",
    "    eps = sp.sparse.dia_matrix(([eps], [0]), [n,n])\n",
    "\n",
    "    # Forward\n",
    "\n",
    "    diag = np.ones(n) * -1/dx\n",
    "    up_diag = np.ones(n) * 1/dx\n",
    "\n",
    "    M_1 = sp.sparse.dia_matrix(([up_diag, diag], [1, 0]), [n,n])\n",
    "    # Backward\n",
    "\n",
    "    diag = np.ones(n) * 1/dx\n",
    "    up_diag = np.ones(n) * -1/dx\n",
    "\n",
    "    M_2 = sp.sparse.dia_matrix(([up_diag, diag], [-1, 0]), [n,n])\n",
    "\n",
    "    M_1 = sp.sparse.lil_matrix(M_1)\n",
    "    M_2 = sp.sparse.lil_matrix(M_2)\n",
    "\n",
    "    kk0 = 2*sp.pi*np.linspace(-0.5,0.5,300) # k-vector in medium with eps1-eps2\n",
    "\n",
    "    k = np.zeros((num_eigs, kk0.size), dtype=complex)\n",
    "    for ik in range(kk0.size):\n",
    "        k0=kk0[ik]\n",
    "\n",
    "        M_1[n-1, 0] = np.cos(k0*1)/dx # to impose periodic boundary conditions    \n",
    "        M_2[0, n-1] = -np.cos(k0*1)/dx\n",
    "\n",
    "        M = -eps*M_2*M_1\n",
    "\n",
    "        kt = k0/np.sqrt((eps1+eps2)/2); # target k=w/c\n",
    "        k2, V = linalg.eigs(M, k=num_eigs, M=None, sigma=kt**2)\n",
    "\n",
    "        k[:,ik] = np.sqrt(k2) # k=w/c\n",
    "    \n",
    "    return kk0/(2*sp.pi), np.real(k/(2*sp.pi))"
   ]
  },
  {
   "cell_type": "markdown",
   "metadata": {},
   "source": [
    "### $\\epsilon_1 = 13, \\epsilon_2 = 13$"
   ]
  },
  {
   "cell_type": "code",
   "execution_count": 55,
   "metadata": {
    "collapsed": false
   },
   "outputs": [
    {
     "data": {
      "text/plain": [
       "(0.0, 0.3)"
      ]
     },
     "execution_count": 55,
     "metadata": {},
     "output_type": "execute_result"
    },
    {
     "data": {
      "image/png": "[encoded data removed]",
      "text/plain": [
       "<matplotlib.figure.Figure at 0x7f02f4a97d68>"
      ]
     },
     "metadata": {},
     "output_type": "display_data"
    }
   ],
   "source": [
    "k0, k = build_bandgap_diagram(13, 13, num_eigs)\n",
    "for i in range(num_eigs):\n",
    "    plt.hold(True)\n",
    "    plt.plot(k0, k[i,:],'-')\n",
    "    \n",
    "plt.xlabel(\"k vector\")\n",
    "plt.ylabel(\"frequency\")\n",
    "plt.xlim([-0.5, 0.5])\n",
    "plt.ylim([0.0, 0.3])"
   ]
  },
  {
   "cell_type": "markdown",
   "metadata": {},
   "source": [
    "### $\\epsilon_1 = 13, \\epsilon_2 = 12$"
   ]
  },
  {
   "cell_type": "code",
   "execution_count": 44,
   "metadata": {
    "collapsed": false,
    "scrolled": true
   },
   "outputs": [
    {
     "data": {
      "text/plain": [
       "(0.0, 0.3)"
      ]
     },
     "execution_count": 44,
     "metadata": {},
     "output_type": "execute_result"
    },
    {
     "data": {
      "image/png": "[encoded data removed]",
      "text/plain": [
       "<matplotlib.figure.Figure at 0x7f02f4ed4c50>"
      ]
     },
     "metadata": {},
     "output_type": "display_data"
    }
   ],
   "source": [
    "k0, k = build_bandgap_diagram(13, 12, num_eigs)\n",
    "for i in range(num_eigs):\n",
    "    plt.hold(True)\n",
    "    plt.plot(k0, k[i,:],'-')\n",
    "    \n",
    "plt.xlabel(\"k vector\")\n",
    "plt.ylabel(\"frequency\")\n",
    "plt.xlim([-0.5, 0.5])\n",
    "plt.ylim([0.0, 0.3])"
   ]
  },
  {
   "cell_type": "markdown",
   "metadata": {},
   "source": [
    "### $\\epsilon_1 = 13, \\epsilon_2 = 1$"
   ]
  },
  {
   "cell_type": "code",
   "execution_count": 45,
   "metadata": {
    "collapsed": false
   },
   "outputs": [
    {
     "data": {
      "text/plain": [
       "(0.0, 0.3)"
      ]
     },
     "execution_count": 45,
     "metadata": {},
     "output_type": "execute_result"
    },
    {
     "data": {
      "image/png": "[encoded data removed]",
      "text/plain": [
       "<matplotlib.figure.Figure at 0x7f02f48f9ef0>"
      ]
     },
     "metadata": {},
     "output_type": "display_data"
    }
   ],
   "source": [
    "k0, k = build_bandgap_diagram(13, 1, num_eigs)\n",
    "for i in range(num_eigs):\n",
    "    plt.hold(True)\n",
    "    plt.plot(k0, k[i,:],'-')\n",
    "    \n",
    "plt.xlabel(\"k vector\")\n",
    "plt.ylabel(\"frequency\")\n",
    "plt.xlim([-0.5, 0.5])\n",
    "plt.ylim([0.0, 0.3])"
   ]
  },
  {
   "cell_type": "code",
   "execution_count": null,
   "metadata": {
    "collapsed": true
   },
   "outputs": [],
   "source": []
  }
 ],
 "metadata": {
  "kernelspec": {
   "display_name": "Python 3",
   "language": "python",
   "name": "python3"
  },
  "language_info": {
   "codemirror_mode": {
    "name": "ipython",
    "version": 3
   },
   "file_extension": ".py",
   "mimetype": "text/x-python",
   "name": "python",
   "nbconvert_exporter": "python",
   "pygments_lexer": "ipython3",
   "version": "3.5.1+"
  }
 },
 "nbformat": 4,
 "nbformat_minor": 0
}
